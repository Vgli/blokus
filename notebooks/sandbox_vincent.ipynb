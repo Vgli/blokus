{
 "cells": [
  {
   "cell_type": "code",
   "execution_count": 1,
   "metadata": {},
   "outputs": [
    {
     "name": "stdout",
     "output_type": "stream",
     "text": [
      "c:\\Users\\Admin\\Documents\\GitHub\\blokus\n",
      "pygame 2.5.2 (SDL 2.28.3, Python 3.12.0)\n",
      "Hello from the pygame community. https://www.pygame.org/contribute.html\n"
     ]
    }
   ],
   "source": [
    "%cd ..\n",
    "#import site\n",
    "#site.addsitedir('C:/Users/Admin/Documents/GitHub/blokus/')  # Replace with the actual path to your project folder\n",
    "from src import bot\n",
    "import src.objects as o\n",
    "from src.objects import Player, Piece\n",
    "from pygame import display, Surface, font, image, surfarray, Rect\n",
    "import pygame\n",
    "import src.events as e\n",
    "import src.views as v\n",
    "from os.path import join\n",
    "import src.controllers as c\n",
    "import numpy as np\n",
    "import src.reward as r"
   ]
  },
  {
   "cell_type": "code",
   "execution_count": 2,
   "metadata": {},
   "outputs": [],
   "source": [
    "import numpy as np\n",
    "import marshal"
   ]
  },
  {
   "cell_type": "code",
   "execution_count": 3,
   "metadata": {},
   "outputs": [],
   "source": [
    "from src import bot\n",
    "board = o.LinkedGrid(20,20, 20)\n",
    "players = []\n",
    "colors = [\"r\", \"g\", \"b\", \"y\"]\n",
    "for p in range(4):\n",
    "    players.append(Player(colors[p]))\n",
    "p_i = 0"
   ]
  },
  {
   "cell_type": "code",
   "execution_count": 4,
   "metadata": {},
   "outputs": [],
   "source": [
    "player = players[0]\n",
    "import json\n",
    "path = 'data/all_playable_moves.json'"
   ]
  },
  {
   "cell_type": "code",
   "execution_count": 5,
   "metadata": {},
   "outputs": [
    {
     "ename": "AttributeError",
     "evalue": "'Player' object has no attribute 'available_pieces'",
     "output_type": "error",
     "traceback": [
      "\u001b[1;31m---------------------------------------------------------------------------\u001b[0m",
      "\u001b[1;31mAttributeError\u001b[0m                            Traceback (most recent call last)",
      "\u001b[1;32mc:\\Users\\Admin\\Documents\\GitHub\\blokus\\notebooks\\sandbox_vincent.ipynb Cell 5\u001b[0m line \u001b[0;36m1\n\u001b[1;32m----> <a href='vscode-notebook-cell:/c%3A/Users/Admin/Documents/GitHub/blokus/notebooks/sandbox_vincent.ipynb#W4sZmlsZQ%3D%3D?line=0'>1</a>\u001b[0m player\u001b[39m.\u001b[39;49mavailable_pieces\u001b[39m.\u001b[39mpop(\u001b[39m0\u001b[39m)\n",
      "\u001b[1;31mAttributeError\u001b[0m: 'Player' object has no attribute 'available_pieces'"
     ]
    }
   ],
   "source": [
    "player.available_pieces.pop(0)"
   ]
  },
  {
   "cell_type": "code",
   "execution_count": 6,
   "metadata": {},
   "outputs": [],
   "source": [
    "matrix = bot.convert_matrix_to_nparray(board.matrix)\n",
    "possible_places, possible_plays_indices, possible_pieces = bot.get_available_actions(matrix, player)\n"
   ]
  },
  {
   "cell_type": "code",
   "execution_count": 32,
   "metadata": {},
   "outputs": [
    {
     "data": {
      "text/plain": [
       "[0,\n",
       " 1,\n",
       " 1,\n",
       " 2,\n",
       " 2,\n",
       " 3,\n",
       " 3,\n",
       " 3,\n",
       " 4,\n",
       " 4,\n",
       " 5,\n",
       " 5,\n",
       " 5,\n",
       " 5,\n",
       " 5,\n",
       " 5,\n",
       " 6,\n",
       " 6,\n",
       " 7,\n",
       " 8,\n",
       " 8,\n",
       " 9,\n",
       " 9,\n",
       " 10,\n",
       " 10,\n",
       " 10,\n",
       " 10,\n",
       " 10,\n",
       " 10,\n",
       " 11,\n",
       " 11,\n",
       " 11,\n",
       " 11,\n",
       " 12,\n",
       " 12,\n",
       " 12,\n",
       " 12,\n",
       " 12,\n",
       " 12,\n",
       " 13,\n",
       " 13,\n",
       " 13,\n",
       " 13,\n",
       " 14,\n",
       " 14,\n",
       " 14,\n",
       " 14,\n",
       " 15,\n",
       " 15,\n",
       " 16,\n",
       " 16,\n",
       " 16,\n",
       " 17,\n",
       " 17,\n",
       " 18,\n",
       " 18,\n",
       " 19,\n",
       " 19]"
      ]
     },
     "execution_count": 32,
     "metadata": {},
     "output_type": "execute_result"
    }
   ],
   "source": [
    "possible_pieces"
   ]
  },
  {
   "cell_type": "code",
   "execution_count": 16,
   "metadata": {},
   "outputs": [],
   "source": [
    "for i in range(1000):\n",
    "    i = 50\n",
    "    color = 1\n",
    "    old_square = []\n",
    "    corners = r.get_corners_for_all_players(matrix) \n",
    "    reward = []\n",
    "    reward.append(bot.get_number_of_blocked_corners(corners, possible_places[i], color))\n",
    "    reward.append(bot.get_number_of_corners(matrix, possible_places[i], color, corners)) # negative value for own color. you want to add some.\n",
    "    area, new_square = bot.get_area_change(old_square, possible_places[i])"
   ]
  },
  {
   "cell_type": "code",
   "execution_count": 30,
   "metadata": {},
   "outputs": [
    {
     "data": {
      "text/plain": [
       "[[[0, 0]],\n",
       " [[0, 0], [1, 0]],\n",
       " [[0, 0], [0, 1]],\n",
       " [[0, 0], [1, 0], [2, 0]],\n",
       " [[0, 0], [0, 1], [0, 2]],\n",
       " [[0, 0], [1, 0], [1, 1]],\n",
       " [[0, 0], [0, 1], [1, 1]],\n",
       " [[0, 0], [0, 1], [1, 0]],\n",
       " [[0, 0], [1, 0], [2, 0], [3, 0]],\n",
       " [[0, 0], [0, 1], [0, 2], [0, 3]],\n",
       " [[0, 0], [0, 1], [0, 2], [1, 2]],\n",
       " [[0, 0], [0, 1], [1, 0], [2, 0]],\n",
       " [[0, 0], [1, 0], [1, 1], [1, 2]],\n",
       " [[0, 0], [1, 0], [2, 0], [2, 1]],\n",
       " [[0, 0], [0, 1], [1, 1], [2, 1]],\n",
       " [[0, 0], [0, 1], [0, 2], [1, 0]],\n",
       " [[0, 0], [1, 0], [1, 1], [2, 0]],\n",
       " [[0, 0], [0, 1], [0, 2], [1, 1]],\n",
       " [[0, 0], [0, 1], [1, 0], [1, 1]],\n",
       " [[0, 0], [0, 1], [1, 1], [1, 2]],\n",
       " [[0, 0], [1, 0], [1, 1], [2, 1]],\n",
       " [[0, 0], [1, 0], [2, 0], [3, 0], [4, 0]],\n",
       " [[0, 0], [0, 1], [0, 2], [0, 3], [0, 4]],\n",
       " [[0, 0], [0, 1], [0, 2], [0, 3], [1, 3]],\n",
       " [[0, 0], [0, 1], [1, 0], [2, 0], [3, 0]],\n",
       " [[0, 0], [1, 0], [1, 1], [1, 2], [1, 3]],\n",
       " [[0, 0], [1, 0], [2, 0], [3, 0], [3, 1]],\n",
       " [[0, 0], [0, 1], [1, 1], [2, 1], [3, 1]],\n",
       " [[0, 0], [0, 1], [0, 2], [0, 3], [1, 0]],\n",
       " [[0, 0], [0, 1], [0, 2], [1, 2], [1, 3]],\n",
       " [[0, 0], [0, 1], [1, 1], [1, 2], [1, 3]],\n",
       " [[0, 0], [1, 0], [2, 0], [2, 1], [3, 1]],\n",
       " [[0, 0], [1, 0], [1, 1], [2, 1], [3, 1]],\n",
       " [[0, 0], [0, 1], [0, 2], [1, 1], [1, 2]],\n",
       " [[0, 0], [0, 1], [1, 0], [1, 1], [2, 0]],\n",
       " [[0, 0], [0, 1], [1, 0], [1, 1], [1, 2]],\n",
       " [[0, 0], [1, 0], [1, 1], [2, 0], [2, 1]],\n",
       " [[0, 0], [0, 1], [1, 0], [1, 1], [2, 1]],\n",
       " [[0, 0], [0, 1], [0, 2], [1, 0], [1, 1]],\n",
       " [[0, 0], [0, 1], [1, 1], [2, 0], [2, 1]],\n",
       " [[0, 0], [0, 1], [0, 2], [1, 0], [1, 2]],\n",
       " [[0, 0], [0, 1], [1, 0], [2, 0], [2, 1]],\n",
       " [[0, 0], [0, 2], [1, 0], [1, 1], [1, 2]],\n",
       " [[0, 0], [1, 0], [1, 1], [2, 0], [3, 0]],\n",
       " [[0, 0], [0, 1], [0, 2], [0, 3], [1, 2]],\n",
       " [[0, 0], [0, 1], [0, 2], [0, 3], [1, 1]],\n",
       " [[0, 0], [1, 0], [2, 0], [2, 1], [3, 0]],\n",
       " [[0, 0], [0, 1], [0, 2], [1, 1], [2, 1]],\n",
       " [[0, 0], [1, 0], [1, 1], [1, 2], [2, 0]],\n",
       " [[0, 0], [1, 0], [2, 0], [2, 1], [2, 2]],\n",
       " [[0, 0], [0, 1], [0, 2], [1, 2], [2, 2]],\n",
       " [[0, 0], [0, 1], [0, 2], [1, 0], [2, 0]],\n",
       " [[0, 0], [0, 1], [1, 1], [1, 2], [2, 2]],\n",
       " [[0, 0], [1, 0], [1, 1], [2, 1], [2, 2]],\n",
       " [[0, 0], [1, 0], [1, 1], [1, 2], [2, 2]],\n",
       " [[0, 0], [0, 1], [1, 1], [2, 1], [2, 2]],\n",
       " [[0, 0], [1, 0], [1, 1], [1, 2], [2, 1]],\n",
       " [[0, 0], [0, 1], [1, 1], [1, 2], [2, 1]]]"
      ]
     },
     "execution_count": 30,
     "metadata": {},
     "output_type": "execute_result"
    }
   ],
   "source": [
    "possible_places"
   ]
  },
  {
   "cell_type": "code",
   "execution_count": null,
   "metadata": {},
   "outputs": [],
   "source": [
    "\n",
    "for n in range(10000):\n",
    "    corners = {}\n",
    "    for c in range(1,5):\n",
    "        corners[c]= set(bot.get_playable_conditions(matrix,c, only_corners= True))\n",
    "\n",
    "corners"
   ]
  },
  {
   "cell_type": "code",
   "execution_count": 18,
   "metadata": {},
   "outputs": [],
   "source": [
    "for n in range(1000):\n",
    "    corners = {1:[],2:[],3:[],4:[]}\n",
    "    for i,j in np.argwhere(matrix == 0):\n",
    "        c = r.check_corner_on_pos(matrix,i,j)\n",
    "        if len(c) > 0:\n",
    "            for p in c:\n",
    "                corners[p].append((i,j))"
   ]
  },
  {
   "cell_type": "code",
   "execution_count": 29,
   "metadata": {},
   "outputs": [],
   "source": [
    "for n in range(100000):\n",
    "    len(np.argwhere(matrix[0:5,0:5] == 0))"
   ]
  },
  {
   "cell_type": "code",
   "execution_count": null,
   "metadata": {},
   "outputs": [],
   "source": [
    "a = np.array([[1, 0, 2],\n",
    "       [0, 0, 1],\n",
    "       [2, 0, 0]], dtype=np.int8)\n",
    "b=a\n",
    "c = np.array(a,copy=True)\n",
    "a[0][0] = 5\n",
    "c[2][2]= 5\n",
    "print(a)\n",
    "print(b)\n",
    "print(c)"
   ]
  },
  {
   "cell_type": "code",
   "execution_count": null,
   "metadata": {},
   "outputs": [],
   "source": [
    "for n in range(1000000):\n",
    "    new_matrix = np.array(matrix, copy = True)"
   ]
  },
  {
   "cell_type": "code",
   "execution_count": null,
   "metadata": {},
   "outputs": [],
   "source": [
    "p = possible_places[0:5]\n",
    "print(p)\n",
    "i = 2\n",
    "p[:i] + p[i+1:]"
   ]
  },
  {
   "cell_type": "code",
   "execution_count": null,
   "metadata": {},
   "outputs": [],
   "source": [
    "False not in [False,True]"
   ]
  },
  {
   "cell_type": "code",
   "execution_count": null,
   "metadata": {},
   "outputs": [],
   "source": [
    "for i in range(3):\n",
    "    for j in range(3):\n",
    "        print(i,j)\n"
   ]
  },
  {
   "cell_type": "code",
   "execution_count": null,
   "metadata": {},
   "outputs": [],
   "source": [
    "def evaluate_board(matrix, possible_places, color, p_color, corners):\n",
    "    pass\n",
    "\n",
    "def is_game_over(players):\n",
    "    return False not in [player.isDone for player in players] #means all players have isDone True\n",
    "\n",
    "def next_player(current_player):\n",
    "    # Function to determine the next player in the sequence. current_player is an int between 1 and 4\n",
    "    return (current_player + 1) % 4 +1 # will go from 1 to 4"
   ]
  },
  {
   "cell_type": "code",
   "execution_count": null,
   "metadata": {},
   "outputs": [],
   "source": [
    "min(2,5)"
   ]
  },
  {
   "cell_type": "code",
   "execution_count": null,
   "metadata": {},
   "outputs": [],
   "source": [
    "def get_last_n(lst, n):\n",
    "    return lst[max(len(lst)-n,0):len(lst)]"
   ]
  },
  {
   "cell_type": "code",
   "execution_count": null,
   "metadata": {},
   "outputs": [],
   "source": [
    "def check_corner_on_pos(matrix,i,j):\n",
    "    if i > 0 and j > 0 and i <19 and j <19:\n",
    "        s = matrix[i-1:i+2,j-1:j+2]\n",
    "        d = {s[0][0],s[0][2],s[2][0],s[2][2]}\n",
    "        l = {s[1,0],s[1,2],s[0,1],s[2,1]}\n",
    "        corner_to = d.difference(l).difference({0})\n",
    "    elif i == 0 and j >0 and j<19:\n",
    "        s = matrix[i:i+2,j-1:j+2]\n",
    "        d = {s[1][0],s[1][2]}\n",
    "        l = {s[0,0],s[0,2],s[1,1]}\n",
    "        corner_to = d.difference(l).difference({0})\n",
    "    elif i == 19 and j > 0 and j < 19:\n",
    "        s = matrix[i-1:i+1,j-1:j+2]\n",
    "        d = {s[0][0],s[0][2]}\n",
    "        l = {s[1,0],s[1,2],s[0,1]}\n",
    "        corner_to = d.difference(l).difference({0})\n",
    "    elif  j == 0 and i >0 and i<19:\n",
    "        s = matrix[i-1:i+2,j:j+2]\n",
    "        d = {s[0][1],s[2][1]}\n",
    "        l = {s[0,0],s[1,1],s[2,0]}\n",
    "        corner_to = d.difference(l).difference({0})\n",
    "    elif  j == 19 and i >0 and i<19:\n",
    "        s = matrix[i-1:i+2,j-1:j+1]\n",
    "        d = {s[0][0],s[2][0]}\n",
    "        l = {s[0,1],s[1,0],s[2,1]}\n",
    "        corner_to = d.difference(l).difference({0})\n",
    "    else:\n",
    "        corner_to = set()\n",
    "    return corner_to\n",
    "\n",
    "def get_corners_for_all_players(matrix):\n",
    "    corners = {1:[],2:[],3:[],4:[]}\n",
    "    for i,j in np.argwhere(matrix == 0):\n",
    "        c = check_corner_on_pos(matrix,i,j)\n",
    "        if len(c) > 0:\n",
    "            for p in c:\n",
    "                corners[p].append((i,j))\n",
    "    return corners"
   ]
  },
  {
   "cell_type": "code",
   "execution_count": 373,
   "metadata": {},
   "outputs": [],
   "source": [
    "def choose_candidate_moves(matrix, possible_places, color, weights = [10,10,1], num_of_candidates = 5, max_places = 100):\n",
    "    '''takes in 4 weights'''\n",
    "    best = []\n",
    "    choice = []\n",
    "    corners = get_corners_for_all_players(matrix)\n",
    "    shift = max(len(possible_places) - max_places,0)\n",
    "    possible_places = possible_places[len(possible_places)-max_places:len(possible_places)]\n",
    "    for i in range(len(possible_places)):\n",
    "        reward = []\n",
    "        reward.append(bot.get_number_of_blocked_corners(corners, possible_places[i], color))\n",
    "        reward.append(bot.get_number_of_corners(matrix, possible_places[i], color, corners)) # negative value for own color. you want to add some.\n",
    "        reward.append(len([coord for coord in possible_places[i] if coord is not None]))\n",
    "        current_sum = sum([x * y for x, y in zip(weights, reward)])\n",
    "        if len(best) < num_of_candidates:\n",
    "            best.append(current_sum)\n",
    "            choice.append(i + shift)\n",
    "        elif current_sum > min(best):\n",
    "            index_to_replace = best.index(min(best))\n",
    "            best[index_to_replace] = current_sum\n",
    "            choice[index_to_replace] = i + shift\n",
    "    return choice"
   ]
  },
  {
   "cell_type": "code",
   "execution_count": null,
   "metadata": {},
   "outputs": [],
   "source": [
    "a = [1,2,3,4,5,6,7]\n",
    "a = a[len(a)-2:len(a)]\n",
    "a"
   ]
  },
  {
   "cell_type": "code",
   "execution_count": 376,
   "metadata": {},
   "outputs": [],
   "source": [
    "for n in range(100):\n",
    "    possible_places = bot.get_available_actions(matrix, player)[0]\n",
    "    choose_candidate_moves(matrix, possible_places, 3, weights = [10,10,1], num_of_candidates = 10, max_places=100)"
   ]
  },
  {
   "cell_type": "code",
   "execution_count": 365,
   "metadata": {},
   "outputs": [],
   "source": [
    "def minimax_alpha_beta(state, depth, alpha, beta, current_player, max_player):\n",
    "    if depth == 0 or is_game_over(state):\n",
    "        return evaluate_board(state), None\n",
    "    \n",
    "    if current_player == max_player:\n",
    "        possible_places = bot.get_available_actions(matrix, player)[0]\n",
    "        \n",
    "        max_eval = float('-inf')\n",
    "        best_move = None\n",
    "        for move in choose_candidate_moves(matrix,possible_places,current_player,num_of_candidates=10):\n",
    "            new_state = bot.matrix_with_placed_piece(matrix,possible_places(move),current_player)  # Apply the move to get the new state\n",
    "            eval, _ = minimax_alpha_beta(new_state, depth - 1, alpha, beta, next_player(current_player), max_player)\n",
    "            if eval > max_eval:\n",
    "                max_eval = eval\n",
    "                best_move = move\n",
    "            alpha = max(alpha, eval)\n",
    "            if beta <= alpha:\n",
    "                break  # Beta pruning\n",
    "        return max_eval, best_move\n",
    "    else:\n",
    "        min_eval = float('inf')\n",
    "        best_move = None\n",
    "        for move in bot.get_available_actions(state, current_player):\n",
    "            new_state = bot.matrix_with_placed_piece(matrix,move,current_player)  # Apply the move to get the new state\n",
    "            eval, _ = minimax_alpha_beta(new_state, depth - 1, alpha, beta, next_player(current_player), max_player)\n",
    "            if eval < min_eval:\n",
    "                min_eval = eval\n",
    "                best_move = move\n",
    "            beta = min(beta, eval)\n",
    "            if beta <= alpha:\n",
    "                break  # Alpha pruning\n",
    "        return min_eval, best_move\n"
   ]
  }
 ],
 "metadata": {
  "kernelspec": {
   "display_name": "Python 3",
   "language": "python",
   "name": "python3"
  },
  "language_info": {
   "codemirror_mode": {
    "name": "ipython",
    "version": 3
   },
   "file_extension": ".py",
   "mimetype": "text/x-python",
   "name": "python",
   "nbconvert_exporter": "python",
   "pygments_lexer": "ipython3",
   "version": "3.12.0"
  }
 },
 "nbformat": 4,
 "nbformat_minor": 2
}

{
 "cells": [
  {
   "cell_type": "code",
   "execution_count": 9,
   "metadata": {},
   "outputs": [
    {
     "name": "stdout",
     "output_type": "stream",
     "text": [
      "c:\\Users\\Admin\\Documents\\GitHub\\blokus\n",
      "pygame 2.5.2 (SDL 2.28.3, Python 3.12.0)\n",
      "Hello from the pygame community. https://www.pygame.org/contribute.html\n"
     ]
    }
   ],
   "source": [
    "%cd ..\n",
    "#import site\n",
    "#site.addsitedir('C:/Users/Admin/Documents/GitHub/blokus/')  # Replace with the actual path to your project folder\n",
    "from src import bot\n",
    "import src.objects as o\n",
    "from src.objects import Player, Piece\n",
    "from pygame import display, Surface, font, image, surfarray, Rect\n",
    "import pygame\n",
    "import src.events as e\n",
    "import src.views as v\n",
    "from os.path import join\n",
    "import src.controllers as c\n",
    "import numpy as np\n",
    "import src.reward as r"
   ]
  },
  {
   "cell_type": "code",
   "execution_count": 10,
   "metadata": {},
   "outputs": [],
   "source": [
    "import numpy as np"
   ]
  },
  {
   "cell_type": "code",
   "execution_count": 11,
   "metadata": {},
   "outputs": [],
   "source": [
    "from src import bot\n",
    "board = o.LinkedGrid(20,20, 20)\n",
    "players = []\n",
    "colors = [\"r\", \"g\", \"b\", \"y\"]\n",
    "for p in range(4):\n",
    "    players.append(Player(colors[p]))\n",
    "p_i = 0"
   ]
  },
  {
   "cell_type": "code",
   "execution_count": 16,
   "metadata": {},
   "outputs": [
    {
     "name": "stdout",
     "output_type": "stream",
     "text": [
      "[[1 1 0 0 0 0 0 0 0 0 0 0 0 0 0 0 0 0 2 2]\n",
      " [0 1 1 0 0 0 0 0 0 0 0 0 0 0 0 0 0 2 2 0]\n",
      " [0 0 1 0 0 0 0 0 0 0 0 0 0 0 0 0 0 2 0 0]\n",
      " [0 0 0 1 0 0 0 0 0 0 0 0 0 0 0 0 0 0 0 0]\n",
      " [0 0 0 1 1 1 0 0 0 0 0 0 0 0 0 0 0 0 0 0]\n",
      " [0 0 0 0 1 0 0 0 0 0 0 0 0 0 0 0 0 0 0 0]\n",
      " [0 0 0 0 0 0 0 0 0 0 0 0 0 0 0 0 0 0 0 0]\n",
      " [0 0 0 0 0 0 0 0 0 0 0 0 0 0 0 0 0 0 0 0]\n",
      " [0 0 0 0 0 0 0 0 0 0 0 0 0 0 0 0 0 0 0 0]\n",
      " [0 0 0 0 0 0 0 0 0 0 0 0 0 0 0 0 0 0 0 0]\n",
      " [0 0 0 0 0 0 0 0 0 0 0 0 0 0 0 0 0 0 0 0]\n",
      " [0 0 0 0 0 0 0 0 0 0 0 0 0 0 0 0 0 0 0 0]\n",
      " [0 0 0 0 0 0 0 0 0 0 0 0 0 0 0 0 0 0 0 0]\n",
      " [0 0 0 0 0 0 0 0 0 0 0 0 0 0 0 0 0 0 0 0]\n",
      " [0 0 0 0 0 0 0 0 0 0 0 0 0 0 0 0 0 0 0 0]\n",
      " [0 0 0 0 0 0 0 0 0 0 0 0 0 0 0 0 0 0 0 0]\n",
      " [0 0 0 0 0 0 0 0 0 0 0 0 0 0 0 0 0 0 0 0]\n",
      " [0 3 3 0 0 0 0 0 0 0 0 0 0 0 0 0 0 4 4 0]\n",
      " [3 3 0 0 0 0 0 0 0 0 0 0 0 0 0 0 0 0 4 4]\n",
      " [3 0 0 0 0 0 0 0 0 0 0 0 0 0 0 0 0 0 0 4]]\n"
     ]
    }
   ],
   "source": [
    "run = True\n",
    "weights = [1,1,10]\n",
    "turn = 0\n",
    "\n",
    "player = players[p_i]\n",
    "\n",
    "\n",
    "if False not in [player.isDone for player in players]: # when all players are done, game stops.\n",
    "    run = False\n",
    "    \n",
    "\n",
    "if not player.isDone:\n",
    "    matrix = bot.convert_matrix_to_nparray(board.matrix)\n",
    "    possible_places, possible_plays_indices, possible_pieces = bot.get_available_actions(matrix, player)\n",
    "    possible_places = [None if lst is None else tuple(lst) for lst in possible_places]\n",
    "    if len(possible_plays_indices) == 0:\n",
    "        player.isDone = True\n",
    "    else:\n",
    "        # Random play right now.\n",
    "        best = 0\n",
    "        choice = 0\n",
    "        best_reward = None\n",
    "\n",
    "        for i in range(len(possible_places)):\n",
    "            reward = bot.estimate_rewards(matrix, possible_places[i], bot.convert_color_to_number(player.c))\n",
    "            current_sum = sum([x * y for x, y in zip(weights, reward)])\n",
    "            if current_sum > best:\n",
    "                choice = i\n",
    "                best = current_sum\n",
    "                best_reward = reward\n",
    "\n",
    "        # rand_index = bot.random_index(possible_plays_indices)\n",
    "        pkey, pindex = possible_plays_indices[choice]\n",
    "        absolute_coords = possible_places[choice]\n",
    "        piece_played = possible_pieces[choice]\n",
    "        #print(choice)\n",
    "        bot.play_coordinates(pkey, pindex, absolute_coords, piece_played, player, board)\n",
    "        if len(player.pieces) == 0:\n",
    "            player.isDone = True\n",
    "        print(bot.convert_matrix_to_nparray(board.matrix))\n",
    "\n",
    "p_i+=1\n",
    "if p_i>3: \n",
    "    p_i=0"
   ]
  },
  {
   "cell_type": "code",
   "execution_count": 26,
   "metadata": {},
   "outputs": [],
   "source": [
    "def choose_move_depth(matrix, possible_places, color, depth = 3, num_choices = 5):\n",
    "    best = []\n",
    "    weights = [10,10,1]\n",
    "    choice = []\n",
    "    old_square = []\n",
    "    corners = {}\n",
    "    for c in range(1,5):\n",
    "        corners[c]= set(bot.get_playable_conditions(matrix,color, only_corners= True))  \n",
    "    for i in range(len(possible_places)):\n",
    "        reward, new_square = r.estimate_rewards(matrix, possible_places[i], color, corners, old_square)\n",
    "        current_sum = sum([x * y for x, y in zip(weights, reward)])\n",
    "\n",
    "        if len(choice) < num_choices:\n",
    "             best.append((current_sum,new_square))\n",
    "             choice.append(i)\n",
    "        else:\n",
    "            rewards = [r for r,s in best]\n",
    "            min_index, min_reward = np.argmin(rewards), np.min(rewards)\n",
    "            if current_sum > min_reward:\n",
    "                 best.pop(min_index)\n",
    "                 best.append((current_sum, new_square))\n",
    "                 choice.pop(min_index)\n",
    "                 choice.append(i)\n",
    "\n",
    "    return choice"
   ]
  },
  {
   "cell_type": "code",
   "execution_count": 18,
   "metadata": {},
   "outputs": [],
   "source": [
    "matrix = bot.convert_matrix_to_nparray(board.matrix)\n",
    "possible_places, possible_plays_indices, possible_pieces = bot.get_available_actions(matrix, player)\n",
    "possible_places = [None if lst is None else tuple(lst) for lst in possible_places]"
   ]
  },
  {
   "cell_type": "code",
   "execution_count": 29,
   "metadata": {},
   "outputs": [],
   "source": [
    "for i in range(10):\n",
    "    choose_move_depth(matrix, possible_places, bot.convert_color_to_number(player.c) )"
   ]
  },
  {
   "cell_type": "code",
   "execution_count": 62,
   "metadata": {},
   "outputs": [
    {
     "data": {
      "text/plain": [
       "{1: {(0, 3), (2, 0), (2, 4), (3, 1), (3, 6), (5, 2), (5, 6), (6, 3), (6, 5)},\n",
       " 2: {(0, 16), (2, 19), (3, 16), (3, 18)},\n",
       " 3: {(16, 0), (16, 3), (18, 3), (19, 2)},\n",
       " 4: {(16, 16), (16, 19), (18, 16), (19, 17)}}"
      ]
     },
     "execution_count": 62,
     "metadata": {},
     "output_type": "execute_result"
    }
   ],
   "source": [
    "colors = [1,2,3,4]\n",
    "corners = {}\n",
    "for c in colors:\n",
    "    corners[c]= set(bot.get_playable_conditions(matrix,c, only_corners= True) )\n",
    "corners"
   ]
  },
  {
   "cell_type": "code",
   "execution_count": 15,
   "metadata": {},
   "outputs": [
    {
     "data": {
      "text/plain": [
       "2"
      ]
     },
     "execution_count": 15,
     "metadata": {},
     "output_type": "execute_result"
    }
   ],
   "source": [
    "r.get_number_of_blocked_corners(corners,([2,0], None, [2,19]),3)"
   ]
  },
  {
   "cell_type": "code",
   "execution_count": 56,
   "metadata": {},
   "outputs": [],
   "source": [
    "def get_number_of_corners(matrix, absolute_coords, color, corners):\n",
    "    rows, cols = len(matrix), len(matrix[0])\n",
    "    added_corners = 0\n",
    "    removed_corners = 0\n",
    "    diagonals = [(-1, -1), (-1, 1), (1, -1), (1, 1)]\n",
    "    laterals = [(0, -1), (0, 1), (-1, 0), (1, 0)]\n",
    "    \n",
    "    for coord in absolute_coords:\n",
    "        if coord is not None:\n",
    "            i,j = coord\n",
    "            for x, y in diagonals:\n",
    "                    new_i, new_j = i + x, j + y\n",
    "                    if 0 <= new_i < rows and 0 <= new_j < cols:\n",
    "                        if matrix[new_i][new_j] == 0:\n",
    "                            append = True\n",
    "                            for a, b in laterals:    \n",
    "                            # Check for valid corners\n",
    "                                if 0 <= new_i+a < rows and 0 <= new_j+b < cols:\n",
    "                                    if (matrix[new_i+a][new_j+b] == color) or ([new_i+a,new_j+b] in absolute_coords):\n",
    "                                        append = False\n",
    "                                        break\n",
    "                            #Check if corner already exists\n",
    "                            if (new_i,new_j) in corners[color]:\n",
    "                                 append = False\n",
    "\n",
    "                            if append:\n",
    "                                added_corners += 1\n",
    "\n",
    "    for coord in corners[color]:\n",
    "        i,j = coord\n",
    "        remove = False\n",
    "        #Check if a corner has been occupied\n",
    "        if [i,j] in absolute_coords:\n",
    "            remove = True\n",
    "        \n",
    "            \n",
    "        for a, b in laterals:\n",
    "        # Check if squares surrounding corner have been occupied\n",
    "                if [i+a,j+b] in absolute_coords:\n",
    "                    remove = True\n",
    "                    break\n",
    "        if remove:\n",
    "            removed_corners += 1\n",
    "\n",
    "\n",
    "    return added_corners, removed_corners"
   ]
  },
  {
   "cell_type": "code",
   "execution_count": 65,
   "metadata": {},
   "outputs": [],
   "source": [
    "absolute_coords = ([3,16],[4,16],[4,17])\n",
    "for i in range(10000):\n",
    "    get_number_of_corners(matrix,absolute_coords, 2, corners)"
   ]
  },
  {
   "cell_type": "code",
   "execution_count": 55,
   "metadata": {},
   "outputs": [
    {
     "data": {
      "text/plain": [
       "[(0, 16), (2, 19), (3, 16), (3, 18)]"
      ]
     },
     "execution_count": 55,
     "metadata": {},
     "output_type": "execute_result"
    }
   ],
   "source": [
    "corners[2]"
   ]
  },
  {
   "cell_type": "code",
   "execution_count": 63,
   "metadata": {},
   "outputs": [],
   "source": [
    "matrix = bot.convert_matrix_to_nparray(board.matrix)\n",
    "for i in range(10000):\n",
    "    bot.get_number_of_blocked_corners(matrix, matrix, 2)"
   ]
  },
  {
   "cell_type": "code",
   "execution_count": 19,
   "metadata": {},
   "outputs": [
    {
     "data": {
      "text/plain": [
       "True"
      ]
     },
     "execution_count": 19,
     "metadata": {},
     "output_type": "execute_result"
    }
   ],
   "source": [
    "[3,3] in absolute_coords"
   ]
  },
  {
   "cell_type": "code",
   "execution_count": null,
   "metadata": {},
   "outputs": [],
   "source": [
    "bot.convert_matrix_to_nparray(board.matrix)"
   ]
  },
  {
   "cell_type": "code",
   "execution_count": null,
   "metadata": {},
   "outputs": [],
   "source": [
    "a,b,c = bot.get_available_actions(bot.convert_matrix_to_nparray(board.matrix),player)"
   ]
  },
  {
   "cell_type": "code",
   "execution_count": null,
   "metadata": {},
   "outputs": [],
   "source": [
    "indices"
   ]
  },
  {
   "cell_type": "code",
   "execution_count": null,
   "metadata": {},
   "outputs": [],
   "source": [
    "indices"
   ]
  },
  {
   "cell_type": "code",
   "execution_count": null,
   "metadata": {},
   "outputs": [],
   "source": [
    "tuple([np.array([], dtype = int),np.array([], dtype = int)])"
   ]
  },
  {
   "cell_type": "code",
   "execution_count": null,
   "metadata": {},
   "outputs": [],
   "source": [
    "a = (np.array([0], dtype = int),np.array([0], dtype = int))"
   ]
  },
  {
   "cell_type": "code",
   "execution_count": 5,
   "metadata": {},
   "outputs": [],
   "source": [
    "import numpy as np"
   ]
  },
  {
   "cell_type": "code",
   "execution_count": 6,
   "metadata": {},
   "outputs": [],
   "source": [
    "best = [3,5,6,7]\n",
    "min_index, min_value = np.argmin(best), np.min(best)\n",
    "\n",
    "\n",
    "\n"
   ]
  },
  {
   "cell_type": "code",
   "execution_count": 8,
   "metadata": {},
   "outputs": [
    {
     "data": {
      "text/plain": [
       "3"
      ]
     },
     "execution_count": 8,
     "metadata": {},
     "output_type": "execute_result"
    }
   ],
   "source": [
    "min_value"
   ]
  },
  {
   "cell_type": "code",
   "execution_count": null,
   "metadata": {},
   "outputs": [],
   "source": []
  }
 ],
 "metadata": {
  "kernelspec": {
   "display_name": "Python 3",
   "language": "python",
   "name": "python3"
  },
  "language_info": {
   "codemirror_mode": {
    "name": "ipython",
    "version": 3
   },
   "file_extension": ".py",
   "mimetype": "text/x-python",
   "name": "python",
   "nbconvert_exporter": "python",
   "pygments_lexer": "ipython3",
   "version": "3.12.0"
  }
 },
 "nbformat": 4,
 "nbformat_minor": 2
}

{
 "cells": [
  {
   "cell_type": "code",
   "execution_count": 1,
   "metadata": {},
   "outputs": [
    {
     "name": "stdout",
     "output_type": "stream",
     "text": [
      "c:\\Users\\Admin\\Documents\\GitHub\\blokus\n",
      "pygame 2.5.2 (SDL 2.28.3, Python 3.12.0)\n",
      "Hello from the pygame community. https://www.pygame.org/contribute.html\n"
     ]
    }
   ],
   "source": [
    "%cd ..\n",
    "#import site\n",
    "#site.addsitedir('C:/Users/Admin/Documents/GitHub/blokus/')  # Replace with the actual path to your project folder\n",
    "from src import bot\n",
    "import src.objects as o\n",
    "from src.objects import Player, Piece\n",
    "from pygame import display, Surface, font, image, surfarray, Rect\n",
    "import pygame\n",
    "import src.events as e\n",
    "import src.views as v\n",
    "from os.path import join\n",
    "import src.controllers as c\n",
    "import numpy as np\n",
    "import src.reward as r"
   ]
  },
  {
   "cell_type": "code",
   "execution_count": 2,
   "metadata": {},
   "outputs": [],
   "source": [
    "import numpy as np"
   ]
  },
  {
   "cell_type": "code",
   "execution_count": 3,
   "metadata": {},
   "outputs": [],
   "source": [
    "from src import bot\n",
    "board = o.LinkedGrid(20,20, 20)\n",
    "players = []\n",
    "colors = [\"r\", \"g\", \"b\", \"y\"]\n",
    "for p in range(4):\n",
    "    players.append(Player(colors[p]))\n",
    "p_i = 0"
   ]
  },
  {
   "cell_type": "code",
   "execution_count": 4,
   "metadata": {},
   "outputs": [],
   "source": [
    "player = players[0]\n",
    "import json\n",
    "path = 'data/all_playable_moves.json'"
   ]
  },
  {
   "cell_type": "code",
   "execution_count": 29,
   "metadata": {},
   "outputs": [],
   "source": [
    "all_playable_moves = bot.get_all_playable_moves('data/all_playable_moves.json')\n"
   ]
  },
  {
   "cell_type": "code",
   "execution_count": 31,
   "metadata": {},
   "outputs": [
    {
     "data": {
      "text/plain": [
       "{0: [[[1, 0], [[0, 0]]]],\n",
       " 1: [[[2, 0], [[0, 0], [1, 0]]], [[2, 0], [[0, 0], [0, 1]]]],\n",
       " 2: [[[3, 0], [[0, 0], [1, 0], [2, 0]]], [[3, 0], [[0, 0], [0, 1], [0, 2]]]],\n",
       " 3: [[[3, 1], [[0, 0], [1, 0], [1, 1]]],\n",
       "  [[3, 1], [[0, 0], [0, 1], [1, 1]]],\n",
       "  [[3, 1], [[0, 0], [0, 1], [1, 0]]]],\n",
       " 4: [[[4, 0], [[0, 0], [1, 0], [2, 0], [3, 0]]],\n",
       "  [[4, 0], [[0, 0], [0, 1], [0, 2], [0, 3]]]],\n",
       " 5: [[[4, 1], [[0, 0], [0, 1], [0, 2], [1, 2]]],\n",
       "  [[4, 1], [[0, 0], [0, 1], [1, 0], [2, 0]]],\n",
       "  [[4, 1], [[0, 0], [1, 0], [1, 1], [1, 2]]],\n",
       "  [[4, 1], [[0, 0], [1, 0], [2, 0], [2, 1]]],\n",
       "  [[4, 1], [[0, 0], [0, 1], [1, 1], [2, 1]]],\n",
       "  [[4, 1], [[0, 0], [0, 1], [0, 2], [1, 0]]]],\n",
       " 6: [[[4, 2], [[0, 0], [1, 0], [1, 1], [2, 0]]],\n",
       "  [[4, 2], [[0, 0], [0, 1], [0, 2], [1, 1]]]],\n",
       " 7: [[[4, 3], [[0, 0], [0, 1], [1, 0], [1, 1]]]],\n",
       " 8: [[[4, 4], [[0, 0], [0, 1], [1, 1], [1, 2]]],\n",
       "  [[4, 4], [[0, 0], [1, 0], [1, 1], [2, 1]]]],\n",
       " 9: [[[5, 0], [[0, 0], [1, 0], [2, 0], [3, 0], [4, 0]]],\n",
       "  [[5, 0], [[0, 0], [0, 1], [0, 2], [0, 3], [0, 4]]]],\n",
       " 10: [[[5, 1], [[0, 0], [0, 1], [0, 2], [0, 3], [1, 3]]],\n",
       "  [[5, 1], [[0, 0], [0, 1], [1, 0], [2, 0], [3, 0]]],\n",
       "  [[5, 1], [[0, 0], [1, 0], [1, 1], [1, 2], [1, 3]]],\n",
       "  [[5, 1], [[0, 0], [1, 0], [2, 0], [3, 0], [3, 1]]],\n",
       "  [[5, 1], [[0, 0], [0, 1], [1, 1], [2, 1], [3, 1]]],\n",
       "  [[5, 1], [[0, 0], [0, 1], [0, 2], [0, 3], [1, 0]]]],\n",
       " 11: [[[5, 2], [[0, 0], [0, 1], [0, 2], [1, 2], [1, 3]]],\n",
       "  [[5, 2], [[0, 0], [0, 1], [1, 1], [1, 2], [1, 3]]],\n",
       "  [[5, 2], [[0, 0], [1, 0], [2, 0], [2, 1], [3, 1]]],\n",
       "  [[5, 2], [[0, 0], [1, 0], [1, 1], [2, 1], [3, 1]]]],\n",
       " 12: [[[5, 3], [[0, 0], [0, 1], [0, 2], [1, 1], [1, 2]]],\n",
       "  [[5, 3], [[0, 0], [0, 1], [1, 0], [1, 1], [2, 0]]],\n",
       "  [[5, 3], [[0, 0], [0, 1], [1, 0], [1, 1], [1, 2]]],\n",
       "  [[5, 3], [[0, 0], [1, 0], [1, 1], [2, 0], [2, 1]]],\n",
       "  [[5, 3], [[0, 0], [0, 1], [1, 0], [1, 1], [2, 1]]],\n",
       "  [[5, 3], [[0, 0], [0, 1], [0, 2], [1, 0], [1, 1]]]],\n",
       " 13: [[[5, 4], [[0, 0], [0, 1], [1, 1], [2, 0], [2, 1]]],\n",
       "  [[5, 4], [[0, 0], [0, 1], [0, 2], [1, 0], [1, 2]]],\n",
       "  [[5, 4], [[0, 0], [0, 1], [1, 0], [2, 0], [2, 1]]],\n",
       "  [[5, 4], [[0, 0], [0, 2], [1, 0], [1, 1], [1, 2]]]],\n",
       " 14: [[[5, 5], [[0, 0], [1, 0], [1, 1], [2, 0], [3, 0]]],\n",
       "  [[5, 5], [[0, 0], [0, 1], [0, 2], [0, 3], [1, 2]]],\n",
       "  [[5, 5], [[0, 0], [0, 1], [0, 2], [0, 3], [1, 1]]],\n",
       "  [[5, 5], [[0, 0], [1, 0], [2, 0], [2, 1], [3, 0]]]],\n",
       " 15: [[[5, 6], [[0, 0], [0, 1], [0, 2], [1, 1], [2, 1]]],\n",
       "  [[5, 6], [[0, 0], [1, 0], [1, 1], [1, 2], [2, 0]]]],\n",
       " 16: [[[5, 7], [[0, 0], [1, 0], [2, 0], [2, 1], [2, 2]]],\n",
       "  [[5, 7], [[0, 0], [0, 1], [0, 2], [1, 2], [2, 2]]],\n",
       "  [[5, 7], [[0, 0], [0, 1], [0, 2], [1, 0], [2, 0]]]],\n",
       " 17: [[[5, 8], [[0, 0], [0, 1], [1, 1], [1, 2], [2, 2]]],\n",
       "  [[5, 8], [[0, 0], [1, 0], [1, 1], [2, 1], [2, 2]]]],\n",
       " 18: [[[5, 9], [[0, 0], [1, 0], [1, 1], [1, 2], [2, 2]]],\n",
       "  [[5, 9], [[0, 0], [0, 1], [1, 1], [2, 1], [2, 2]]]],\n",
       " 19: [[[5, 10], [[0, 0], [1, 0], [1, 1], [1, 2], [2, 1]]],\n",
       "  [[5, 10], [[0, 0], [0, 1], [1, 1], [1, 2], [2, 1]]]],\n",
       " 20: []}"
      ]
     },
     "execution_count": 31,
     "metadata": {},
     "output_type": "execute_result"
    }
   ],
   "source": [
    "a = {**all_playable_moves}\n",
    "a[(0,0)]"
   ]
  },
  {
   "cell_type": "code",
   "execution_count": 31,
   "metadata": {},
   "outputs": [],
   "source": [
    "playable_board, playable_pos = bot.get_playable_conditions((bot.convert_matrix_to_nparray(board.matrix)),bot.convert_color_to_number(player.c))\n",
    "playable_pos = [(i,j) for i in range(20) for j in range(20)]\n",
    "all_pos_play = {(i,j):{} for i in range(20) for j in range(20)}\n",
    "\n",
    "piece_num = 0\n",
    "for pkey in player.pieces.keys():\n",
    "    for pindex in range(len(player.pieces[pkey])):\n",
    "        piece = player.pieces[pkey][pindex].m\n",
    "        piece_permutations = [piece, np.rot90(piece,1), np.rot90(piece,2), np.rot90(piece,3), np.fliplr(piece), np.rot90(np.fliplr(piece),1), np.rot90(np.fliplr(piece),2), np.rot90(np.fliplr(piece),3)]  \n",
    "        for p in piece_permutations:\n",
    "            for position in playable_pos:\n",
    "                for i in range(len(p)):\n",
    "                    for j in range(len(p[0])):\n",
    "                        relative_coords = bot.get_piece_relative_coordinates(p, i,j)\n",
    "                        absolute_coords = bot.get_absolute_coordinates(position, relative_coords)\n",
    "                        if position in absolute_coords:\n",
    "                            if piece_num not in all_pos_play[position].keys():\n",
    "                                all_pos_play[position][piece_num] = []\n",
    "                                \n",
    "                            if bot.check_absolute_coordinates(playable_board, absolute_coords):\n",
    "                                if [(pkey,pindex),absolute_coords] not in all_pos_play[position][piece_num]:\n",
    "                                    all_pos_play[position][piece_num].append([(pkey,pindex),absolute_coords])\n",
    "        piece_num+=1\n",
    "string_keys_dict = {str(key): value for key, value in all_pos_play.items()}\n",
    "    # Open the file in write mode and use json.dump() to save the list as a JSON file\n",
    "with open(path, 'w') as json_file:\n",
    "    json.dump(string_keys_dict, json_file)"
   ]
  },
  {
   "cell_type": "code",
   "execution_count": null,
   "metadata": {},
   "outputs": [],
   "source": []
  },
  {
   "cell_type": "code",
   "execution_count": 26,
   "metadata": {},
   "outputs": [],
   "source": [
    "with open(path, 'r') as json_file:\n",
    "    string_keys_dict = json.load(json_file)\n",
    "    # Convert string keys back to tuples\n",
    "loaded_dict = {tuple(eval(key)): value for key, value in string_keys_dict.items()}\n",
    "\n",
    "for pos in loaded_dict.keys():\n",
    "    loaded_dict[pos] = {int(eval(key)): value for key, value in loaded_dict[pos].items()}"
   ]
  },
  {
   "cell_type": "code",
   "execution_count": 29,
   "metadata": {},
   "outputs": [
    {
     "data": {
      "text/plain": [
       "[[[1, 0], [[0, 0]]]]"
      ]
     },
     "execution_count": 29,
     "metadata": {},
     "output_type": "execute_result"
    }
   ],
   "source": [
    "loaded_dict[(0,0)][0]"
   ]
  },
  {
   "cell_type": "code",
   "execution_count": null,
   "metadata": {},
   "outputs": [],
   "source": []
  },
  {
   "cell_type": "code",
   "execution_count": 17,
   "metadata": {},
   "outputs": [
    {
     "data": {
      "text/plain": [
       "[[(1, 0), [(0, 0)]]]"
      ]
     },
     "execution_count": 17,
     "metadata": {},
     "output_type": "execute_result"
    }
   ],
   "source": [
    "string_keys_dict['(0, 0)'][0]"
   ]
  },
  {
   "cell_type": "code",
   "execution_count": 13,
   "metadata": {},
   "outputs": [],
   "source": [
    "piece_dict = {}\n",
    "i = 0\n",
    "for key in player.pieces.keys():\n",
    "    for index,p in enumerate(player.pieces[key]):\n",
    "        piece_dict[i] = p.m\n",
    "        i+=1\n",
    "        \n",
    "\n",
    "        "
   ]
  },
  {
   "cell_type": "code",
   "execution_count": 14,
   "metadata": {},
   "outputs": [
    {
     "data": {
      "text/plain": [
       "{0: array([[1]]),\n",
       " 1: array([[1],\n",
       "        [1]]),\n",
       " 2: array([[1],\n",
       "        [1],\n",
       "        [1]]),\n",
       " 3: array([[1, 0],\n",
       "        [1, 1]]),\n",
       " 4: array([[1],\n",
       "        [1],\n",
       "        [1],\n",
       "        [1]]),\n",
       " 5: array([[0, 1],\n",
       "        [0, 1],\n",
       "        [1, 1]]),\n",
       " 6: array([[1, 0],\n",
       "        [1, 1],\n",
       "        [1, 0]]),\n",
       " 7: array([[1, 1],\n",
       "        [1, 1]]),\n",
       " 8: array([[1, 1, 0],\n",
       "        [0, 1, 1]]),\n",
       " 9: array([[1],\n",
       "        [1],\n",
       "        [1],\n",
       "        [1],\n",
       "        [1]]),\n",
       " 10: array([[0, 1],\n",
       "        [0, 1],\n",
       "        [0, 1],\n",
       "        [1, 1]]),\n",
       " 11: array([[0, 1],\n",
       "        [0, 1],\n",
       "        [1, 1],\n",
       "        [1, 0]]),\n",
       " 12: array([[0, 1],\n",
       "        [1, 1],\n",
       "        [1, 1]]),\n",
       " 13: array([[1, 1],\n",
       "        [0, 1],\n",
       "        [1, 1]]),\n",
       " 14: array([[1, 0],\n",
       "        [1, 1],\n",
       "        [1, 0],\n",
       "        [1, 0]]),\n",
       " 15: array([[0, 1, 0],\n",
       "        [0, 1, 0],\n",
       "        [1, 1, 1]]),\n",
       " 16: array([[1, 0, 0],\n",
       "        [1, 0, 0],\n",
       "        [1, 1, 1]]),\n",
       " 17: array([[1, 1, 0],\n",
       "        [0, 1, 1],\n",
       "        [0, 0, 1]]),\n",
       " 18: array([[1, 0, 0],\n",
       "        [1, 1, 1],\n",
       "        [0, 0, 1]]),\n",
       " 19: array([[1, 0, 0],\n",
       "        [1, 1, 1],\n",
       "        [0, 1, 0]]),\n",
       " 20: array([[0, 1, 0],\n",
       "        [1, 1, 1],\n",
       "        [0, 1, 0]])}"
      ]
     },
     "execution_count": 14,
     "metadata": {},
     "output_type": "execute_result"
    }
   ],
   "source": [
    "piece_dict"
   ]
  },
  {
   "cell_type": "code",
   "execution_count": 20,
   "metadata": {},
   "outputs": [
    {
     "data": {
      "text/plain": [
       "array([[0, 1, 0],\n",
       "       [1, 1, 1],\n",
       "       [0, 1, 0]])"
      ]
     },
     "execution_count": 20,
     "metadata": {},
     "output_type": "execute_result"
    }
   ],
   "source": [
    "player.pieces[5][11].m"
   ]
  },
  {
   "cell_type": "code",
   "execution_count": 27,
   "metadata": {},
   "outputs": [
    {
     "data": {
      "text/plain": [
       "dict_keys(['(0, 0)', '(0, 1)', '(0, 2)', '(0, 3)', '(0, 4)', '(0, 5)', '(0, 6)', '(0, 7)', '(0, 8)', '(0, 9)', '(0, 10)', '(0, 11)', '(0, 12)', '(0, 13)', '(0, 14)', '(0, 15)', '(0, 16)', '(0, 17)', '(0, 18)', '(0, 19)', '(1, 0)', '(1, 1)', '(1, 2)', '(1, 3)', '(1, 4)', '(1, 5)', '(1, 6)', '(1, 7)', '(1, 8)', '(1, 9)', '(1, 10)', '(1, 11)', '(1, 12)', '(1, 13)', '(1, 14)', '(1, 15)', '(1, 16)', '(1, 17)', '(1, 18)', '(1, 19)', '(2, 0)', '(2, 1)', '(2, 2)', '(2, 3)', '(2, 4)', '(2, 5)', '(2, 6)', '(2, 7)', '(2, 8)', '(2, 9)', '(2, 10)', '(2, 11)', '(2, 12)', '(2, 13)', '(2, 14)', '(2, 15)', '(2, 16)', '(2, 17)', '(2, 18)', '(2, 19)', '(3, 0)', '(3, 1)', '(3, 2)', '(3, 3)', '(3, 4)', '(3, 5)', '(3, 6)', '(3, 7)', '(3, 8)', '(3, 9)', '(3, 10)', '(3, 11)', '(3, 12)', '(3, 13)', '(3, 14)', '(3, 15)', '(3, 16)', '(3, 17)', '(3, 18)', '(3, 19)', '(4, 0)', '(4, 1)', '(4, 2)', '(4, 3)', '(4, 4)', '(4, 5)', '(4, 6)', '(4, 7)', '(4, 8)', '(4, 9)', '(4, 10)', '(4, 11)', '(4, 12)', '(4, 13)', '(4, 14)', '(4, 15)', '(4, 16)', '(4, 17)', '(4, 18)', '(4, 19)', '(5, 0)', '(5, 1)', '(5, 2)', '(5, 3)', '(5, 4)', '(5, 5)', '(5, 6)', '(5, 7)', '(5, 8)', '(5, 9)', '(5, 10)', '(5, 11)', '(5, 12)', '(5, 13)', '(5, 14)', '(5, 15)', '(5, 16)', '(5, 17)', '(5, 18)', '(5, 19)', '(6, 0)', '(6, 1)', '(6, 2)', '(6, 3)', '(6, 4)', '(6, 5)', '(6, 6)', '(6, 7)', '(6, 8)', '(6, 9)', '(6, 10)', '(6, 11)', '(6, 12)', '(6, 13)', '(6, 14)', '(6, 15)', '(6, 16)', '(6, 17)', '(6, 18)', '(6, 19)', '(7, 0)', '(7, 1)', '(7, 2)', '(7, 3)', '(7, 4)', '(7, 5)', '(7, 6)', '(7, 7)', '(7, 8)', '(7, 9)', '(7, 10)', '(7, 11)', '(7, 12)', '(7, 13)', '(7, 14)', '(7, 15)', '(7, 16)', '(7, 17)', '(7, 18)', '(7, 19)', '(8, 0)', '(8, 1)', '(8, 2)', '(8, 3)', '(8, 4)', '(8, 5)', '(8, 6)', '(8, 7)', '(8, 8)', '(8, 9)', '(8, 10)', '(8, 11)', '(8, 12)', '(8, 13)', '(8, 14)', '(8, 15)', '(8, 16)', '(8, 17)', '(8, 18)', '(8, 19)', '(9, 0)', '(9, 1)', '(9, 2)', '(9, 3)', '(9, 4)', '(9, 5)', '(9, 6)', '(9, 7)', '(9, 8)', '(9, 9)', '(9, 10)', '(9, 11)', '(9, 12)', '(9, 13)', '(9, 14)', '(9, 15)', '(9, 16)', '(9, 17)', '(9, 18)', '(9, 19)', '(10, 0)', '(10, 1)', '(10, 2)', '(10, 3)', '(10, 4)', '(10, 5)', '(10, 6)', '(10, 7)', '(10, 8)', '(10, 9)', '(10, 10)', '(10, 11)', '(10, 12)', '(10, 13)', '(10, 14)', '(10, 15)', '(10, 16)', '(10, 17)', '(10, 18)', '(10, 19)', '(11, 0)', '(11, 1)', '(11, 2)', '(11, 3)', '(11, 4)', '(11, 5)', '(11, 6)', '(11, 7)', '(11, 8)', '(11, 9)', '(11, 10)', '(11, 11)', '(11, 12)', '(11, 13)', '(11, 14)', '(11, 15)', '(11, 16)', '(11, 17)', '(11, 18)', '(11, 19)', '(12, 0)', '(12, 1)', '(12, 2)', '(12, 3)', '(12, 4)', '(12, 5)', '(12, 6)', '(12, 7)', '(12, 8)', '(12, 9)', '(12, 10)', '(12, 11)', '(12, 12)', '(12, 13)', '(12, 14)', '(12, 15)', '(12, 16)', '(12, 17)', '(12, 18)', '(12, 19)', '(13, 0)', '(13, 1)', '(13, 2)', '(13, 3)', '(13, 4)', '(13, 5)', '(13, 6)', '(13, 7)', '(13, 8)', '(13, 9)', '(13, 10)', '(13, 11)', '(13, 12)', '(13, 13)', '(13, 14)', '(13, 15)', '(13, 16)', '(13, 17)', '(13, 18)', '(13, 19)', '(14, 0)', '(14, 1)', '(14, 2)', '(14, 3)', '(14, 4)', '(14, 5)', '(14, 6)', '(14, 7)', '(14, 8)', '(14, 9)', '(14, 10)', '(14, 11)', '(14, 12)', '(14, 13)', '(14, 14)', '(14, 15)', '(14, 16)', '(14, 17)', '(14, 18)', '(14, 19)', '(15, 0)', '(15, 1)', '(15, 2)', '(15, 3)', '(15, 4)', '(15, 5)', '(15, 6)', '(15, 7)', '(15, 8)', '(15, 9)', '(15, 10)', '(15, 11)', '(15, 12)', '(15, 13)', '(15, 14)', '(15, 15)', '(15, 16)', '(15, 17)', '(15, 18)', '(15, 19)', '(16, 0)', '(16, 1)', '(16, 2)', '(16, 3)', '(16, 4)', '(16, 5)', '(16, 6)', '(16, 7)', '(16, 8)', '(16, 9)', '(16, 10)', '(16, 11)', '(16, 12)', '(16, 13)', '(16, 14)', '(16, 15)', '(16, 16)', '(16, 17)', '(16, 18)', '(16, 19)', '(17, 0)', '(17, 1)', '(17, 2)', '(17, 3)', '(17, 4)', '(17, 5)', '(17, 6)', '(17, 7)', '(17, 8)', '(17, 9)', '(17, 10)', '(17, 11)', '(17, 12)', '(17, 13)', '(17, 14)', '(17, 15)', '(17, 16)', '(17, 17)', '(17, 18)', '(17, 19)', '(18, 0)', '(18, 1)', '(18, 2)', '(18, 3)', '(18, 4)', '(18, 5)', '(18, 6)', '(18, 7)', '(18, 8)', '(18, 9)', '(18, 10)', '(18, 11)', '(18, 12)', '(18, 13)', '(18, 14)', '(18, 15)', '(18, 16)', '(18, 17)', '(18, 18)', '(18, 19)', '(19, 0)', '(19, 1)', '(19, 2)', '(19, 3)', '(19, 4)', '(19, 5)', '(19, 6)', '(19, 7)', '(19, 8)', '(19, 9)', '(19, 10)', '(19, 11)', '(19, 12)', '(19, 13)', '(19, 14)', '(19, 15)', '(19, 16)', '(19, 17)', '(19, 18)', '(19, 19)'])"
      ]
     },
     "execution_count": 27,
     "metadata": {},
     "output_type": "execute_result"
    }
   ],
   "source": [
    "string_keys_dict.keys()"
   ]
  },
  {
   "cell_type": "code",
   "execution_count": null,
   "metadata": {},
   "outputs": [],
   "source": [
    "a = {**players[0].all_playable_moves}"
   ]
  },
  {
   "cell_type": "code",
   "execution_count": null,
   "metadata": {},
   "outputs": [],
   "source": [
    "run = True\n",
    "weights = [1,1,10]\n",
    "turn = 0\n",
    "\n",
    "player = players[p_i]\n",
    "\n",
    "\n",
    "if False not in [player.isDone for player in players]: # when all players are done, game stops.\n",
    "    run = False\n",
    "    \n",
    "\n",
    "if not player.isDone:\n",
    "    matrix = bot.convert_matrix_to_nparray(board.matrix)\n",
    "    possible_places, possible_plays_indices, possible_pieces = bot.get_available_actions(matrix, player)\n",
    "    possible_places = [None if lst is None else tuple(lst) for lst in possible_places]\n",
    "    if len(possible_plays_indices) == 0:\n",
    "        player.isDone = True\n",
    "    else:\n",
    "        # Random play right now.\n",
    "        best = 0\n",
    "        choice = 0\n",
    "        best_reward = None\n",
    "\n",
    "        \n",
    "\n",
    "        rand_index = bot.random_index(possible_plays_indices)\n",
    "        pkey, pindex = possible_plays_indices[choice]\n",
    "        absolute_coords = possible_places[choice]\n",
    "        piece_played = possible_pieces[choice]\n",
    "        #print(choice)\n",
    "        bot.play_coordinates(pkey, pindex, absolute_coords, piece_played, player, board)\n",
    "        if len(player.pieces) == 0:\n",
    "            player.isDone = True\n",
    "        print(bot.convert_matrix_to_nparray(board.matrix))\n",
    "\n",
    "p_i+=1\n",
    "if p_i>3: \n",
    "    p_i=0"
   ]
  },
  {
   "cell_type": "code",
   "execution_count": null,
   "metadata": {},
   "outputs": [],
   "source": [
    "del corner_to"
   ]
  },
  {
   "cell_type": "code",
   "execution_count": null,
   "metadata": {},
   "outputs": [],
   "source": [
    "def check_corner_on_pos(matrix,i,j):\n",
    "    if i > 0 and j > 0 and i <19 and j <19:\n",
    "        s = matrix[i-1:i+2,j-1:j+2]\n",
    "        d = {s[0][0],s[0][2],s[2][0],s[2][2]}\n",
    "        l = {s[1,0],s[1,2],s[0,1],s[2,1]}\n",
    "        corner_to = d.difference(l).difference({0})\n",
    "        return corner_to\n",
    "    elif i == 0 and j >0 and j<19:\n",
    "        s = matrix[i:i+2,j-1:j+2]\n",
    "        d = {s[1][0],s[1][2]}\n",
    "        l = {s[0,0],s[0,2],s[1,1]}\n",
    "        corner_to = d.difference(l).difference({0})\n",
    "    elif i == 19 and j > 0 and j < 19:\n",
    "        s = matrix[i-1:i+1,j-1:j+2]\n",
    "        d = {s[0][0],s[0][2]}\n",
    "        l = {s[1,0],s[1,2],s[0,1]}\n",
    "        corner_to = d.difference(l).difference({0})\n",
    "    elif  j == 0 and i >0 and i<19:\n",
    "        s = matrix[i-1:i+2,j:j+2]\n",
    "        d = {s[0][1],s[2][1]}\n",
    "        l = {s[0,0],s[1,1],s[2,0]}\n",
    "        corner_to = d.difference(l).difference({0})\n",
    "    elif  j == 19 and i >0 and i<19:\n",
    "        s = matrix[i-1:i+2,j-1:j+1]\n",
    "        d = {s[0][0],s[2][0]}\n",
    "        l = {s[0,1],s[1,0],s[2,1]}\n",
    "        corner_to = d.difference(l).difference({0})\n",
    "    return corner_to"
   ]
  },
  {
   "cell_type": "code",
   "execution_count": null,
   "metadata": {},
   "outputs": [],
   "source": [
    "set([0])"
   ]
  },
  {
   "cell_type": "code",
   "execution_count": null,
   "metadata": {},
   "outputs": [],
   "source": [
    "a = np.array([[1, 0, 2],\n",
    "       [0, 0, 1],\n",
    "       [2, 0, 0]], dtype=np.int8)"
   ]
  },
  {
   "cell_type": "code",
   "execution_count": null,
   "metadata": {},
   "outputs": [],
   "source": [
    "matrix"
   ]
  },
  {
   "cell_type": "code",
   "execution_count": null,
   "metadata": {},
   "outputs": [],
   "source": [
    "s"
   ]
  },
  {
   "cell_type": "code",
   "execution_count": null,
   "metadata": {},
   "outputs": [],
   "source": [
    "i,j = (1,1)\n",
    "for n in range(1000000):\n",
    "    s = matrix[i-1:i+2,j-1:j+2]\n",
    "    d = {s[0][0],s[0][2],s[2][0],s[2][2]}\n",
    "    l = {s[1,0],s[1,2],s[0,1],s[2,1]}\n",
    "    corner_to = d.difference(l).difference({0})\n"
   ]
  },
  {
   "cell_type": "code",
   "execution_count": null,
   "metadata": {},
   "outputs": [],
   "source": [
    "for n in range(1000000):\n",
    "    np.where(a== 2)"
   ]
  },
  {
   "cell_type": "code",
   "execution_count": null,
   "metadata": {},
   "outputs": [],
   "source": [
    "np.all(np.where(a.flatten() == 2)[0]% 2 == 0)"
   ]
  },
  {
   "cell_type": "code",
   "execution_count": null,
   "metadata": {},
   "outputs": [],
   "source": [
    "a"
   ]
  },
  {
   "cell_type": "code",
   "execution_count": null,
   "metadata": {},
   "outputs": [],
   "source": [
    "print(bot.convert_matrix_to_nparray(board.matrix))"
   ]
  },
  {
   "cell_type": "code",
   "execution_count": null,
   "metadata": {},
   "outputs": [],
   "source": [
    "\n",
    "for n in range(10000):\n",
    "    corners = {}\n",
    "    for c in range(1,5):\n",
    "        corners[c]= set(bot.get_playable_conditions(matrix,c, only_corners= True))\n",
    "\n",
    "corners"
   ]
  },
  {
   "cell_type": "code",
   "execution_count": null,
   "metadata": {},
   "outputs": [],
   "source": [
    "for n in range(10000):\n",
    "    corners = {1:[],2:[],3:[],4:[]}\n",
    "    for i,j in np.argwhere(matrix == 0):\n",
    "        c = check_corner_on_pos(matrix,i,j)\n",
    "        if len(c) > 0:\n",
    "            for p in c:\n",
    "                corners[p].append((i,j))"
   ]
  },
  {
   "cell_type": "code",
   "execution_count": null,
   "metadata": {},
   "outputs": [],
   "source": [
    "a = np.array([[1, 0, 2],\n",
    "       [0, 0, 1],\n",
    "       [2, 0, 0]], dtype=np.int8)\n",
    "b=a\n",
    "c = np.array(a,copy=True)\n",
    "a[0][0] = 5\n",
    "c[2][2]= 5\n",
    "print(a)\n",
    "print(b)\n",
    "print(c)"
   ]
  },
  {
   "cell_type": "code",
   "execution_count": null,
   "metadata": {},
   "outputs": [],
   "source": [
    "for n in range(1000000):\n",
    "    new_matrix = np.array(matrix, copy = True)"
   ]
  },
  {
   "cell_type": "code",
   "execution_count": null,
   "metadata": {},
   "outputs": [],
   "source": [
    "p = possible_places[0:5]\n",
    "print(p)\n",
    "i = 2\n",
    "p[:i] + p[i+1:]"
   ]
  },
  {
   "cell_type": "code",
   "execution_count": null,
   "metadata": {},
   "outputs": [],
   "source": [
    "False not in [False,True]"
   ]
  },
  {
   "cell_type": "code",
   "execution_count": null,
   "metadata": {},
   "outputs": [],
   "source": [
    "for i in range(3):\n",
    "    for j in range(3):\n",
    "        print(i,j)\n"
   ]
  },
  {
   "cell_type": "code",
   "execution_count": null,
   "metadata": {},
   "outputs": [],
   "source": [
    "def evaluate_board(matrix, possible_places, color, p_color, corners):\n",
    "    pass\n",
    "\n",
    "def is_game_over(players):\n",
    "    return False not in [player.isDone for player in players] #means all players have isDone True\n",
    "\n",
    "def next_player(current_player):\n",
    "    # Function to determine the next player in the sequence. current_player is an int between 1 and 4\n",
    "    return (current_player + 1) % 4 +1 # will go from 1 to 4"
   ]
  },
  {
   "cell_type": "code",
   "execution_count": null,
   "metadata": {},
   "outputs": [],
   "source": [
    "min(2,5)"
   ]
  },
  {
   "cell_type": "code",
   "execution_count": null,
   "metadata": {},
   "outputs": [],
   "source": [
    "def get_last_n(lst, n):\n",
    "    return lst[max(len(lst)-n,0):len(lst)]"
   ]
  },
  {
   "cell_type": "code",
   "execution_count": null,
   "metadata": {},
   "outputs": [],
   "source": [
    "def check_corner_on_pos(matrix,i,j):\n",
    "    if i > 0 and j > 0 and i <19 and j <19:\n",
    "        s = matrix[i-1:i+2,j-1:j+2]\n",
    "        d = {s[0][0],s[0][2],s[2][0],s[2][2]}\n",
    "        l = {s[1,0],s[1,2],s[0,1],s[2,1]}\n",
    "        corner_to = d.difference(l).difference({0})\n",
    "    elif i == 0 and j >0 and j<19:\n",
    "        s = matrix[i:i+2,j-1:j+2]\n",
    "        d = {s[1][0],s[1][2]}\n",
    "        l = {s[0,0],s[0,2],s[1,1]}\n",
    "        corner_to = d.difference(l).difference({0})\n",
    "    elif i == 19 and j > 0 and j < 19:\n",
    "        s = matrix[i-1:i+1,j-1:j+2]\n",
    "        d = {s[0][0],s[0][2]}\n",
    "        l = {s[1,0],s[1,2],s[0,1]}\n",
    "        corner_to = d.difference(l).difference({0})\n",
    "    elif  j == 0 and i >0 and i<19:\n",
    "        s = matrix[i-1:i+2,j:j+2]\n",
    "        d = {s[0][1],s[2][1]}\n",
    "        l = {s[0,0],s[1,1],s[2,0]}\n",
    "        corner_to = d.difference(l).difference({0})\n",
    "    elif  j == 19 and i >0 and i<19:\n",
    "        s = matrix[i-1:i+2,j-1:j+1]\n",
    "        d = {s[0][0],s[2][0]}\n",
    "        l = {s[0,1],s[1,0],s[2,1]}\n",
    "        corner_to = d.difference(l).difference({0})\n",
    "    else:\n",
    "        corner_to = set()\n",
    "    return corner_to\n",
    "\n",
    "def get_corners_for_all_players(matrix):\n",
    "    corners = {1:[],2:[],3:[],4:[]}\n",
    "    for i,j in np.argwhere(matrix == 0):\n",
    "        c = check_corner_on_pos(matrix,i,j)\n",
    "        if len(c) > 0:\n",
    "            for p in c:\n",
    "                corners[p].append((i,j))\n",
    "    return corners"
   ]
  },
  {
   "cell_type": "code",
   "execution_count": 373,
   "metadata": {},
   "outputs": [],
   "source": [
    "def choose_candidate_moves(matrix, possible_places, color, weights = [10,10,1], num_of_candidates = 5, max_places = 100):\n",
    "    '''takes in 4 weights'''\n",
    "    best = []\n",
    "    choice = []\n",
    "    corners = get_corners_for_all_players(matrix)\n",
    "    shift = max(len(possible_places) - max_places,0)\n",
    "    possible_places = possible_places[len(possible_places)-max_places:len(possible_places)]\n",
    "    for i in range(len(possible_places)):\n",
    "        reward = []\n",
    "        reward.append(bot.get_number_of_blocked_corners(corners, possible_places[i], color))\n",
    "        reward.append(bot.get_number_of_corners(matrix, possible_places[i], color, corners)) # negative value for own color. you want to add some.\n",
    "        reward.append(len([coord for coord in possible_places[i] if coord is not None]))\n",
    "        current_sum = sum([x * y for x, y in zip(weights, reward)])\n",
    "        if len(best) < num_of_candidates:\n",
    "            best.append(current_sum)\n",
    "            choice.append(i + shift)\n",
    "        elif current_sum > min(best):\n",
    "            index_to_replace = best.index(min(best))\n",
    "            best[index_to_replace] = current_sum\n",
    "            choice[index_to_replace] = i + shift\n",
    "    return choice"
   ]
  },
  {
   "cell_type": "code",
   "execution_count": null,
   "metadata": {},
   "outputs": [],
   "source": [
    "a = [1,2,3,4,5,6,7]\n",
    "a = a[len(a)-2:len(a)]\n",
    "a"
   ]
  },
  {
   "cell_type": "code",
   "execution_count": 376,
   "metadata": {},
   "outputs": [],
   "source": [
    "for n in range(100):\n",
    "    possible_places = bot.get_available_actions(matrix, player)[0]\n",
    "    choose_candidate_moves(matrix, possible_places, 3, weights = [10,10,1], num_of_candidates = 10, max_places=100)"
   ]
  },
  {
   "cell_type": "code",
   "execution_count": 365,
   "metadata": {},
   "outputs": [],
   "source": [
    "def minimax_alpha_beta(state, depth, alpha, beta, current_player, max_player):\n",
    "    if depth == 0 or is_game_over(state):\n",
    "        return evaluate_board(state), None\n",
    "    \n",
    "    if current_player == max_player:\n",
    "        possible_places = bot.get_available_actions(matrix, player)[0]\n",
    "        \n",
    "        max_eval = float('-inf')\n",
    "        best_move = None\n",
    "        for move in choose_candidate_moves(matrix,possible_places,current_player,num_of_candidates=10):\n",
    "            new_state = bot.matrix_with_placed_piece(matrix,possible_places(move),current_player)  # Apply the move to get the new state\n",
    "            eval, _ = minimax_alpha_beta(new_state, depth - 1, alpha, beta, next_player(current_player), max_player)\n",
    "            if eval > max_eval:\n",
    "                max_eval = eval\n",
    "                best_move = move\n",
    "            alpha = max(alpha, eval)\n",
    "            if beta <= alpha:\n",
    "                break  # Beta pruning\n",
    "        return max_eval, best_move\n",
    "    else:\n",
    "        min_eval = float('inf')\n",
    "        best_move = None\n",
    "        for move in bot.get_available_actions(state, current_player):\n",
    "            new_state = bot.matrix_with_placed_piece(matrix,move,current_player)  # Apply the move to get the new state\n",
    "            eval, _ = minimax_alpha_beta(new_state, depth - 1, alpha, beta, next_player(current_player), max_player)\n",
    "            if eval < min_eval:\n",
    "                min_eval = eval\n",
    "                best_move = move\n",
    "            beta = min(beta, eval)\n",
    "            if beta <= alpha:\n",
    "                break  # Alpha pruning\n",
    "        return min_eval, best_move\n"
   ]
  }
 ],
 "metadata": {
  "kernelspec": {
   "display_name": "Python 3",
   "language": "python",
   "name": "python3"
  },
  "language_info": {
   "codemirror_mode": {
    "name": "ipython",
    "version": 3
   },
   "file_extension": ".py",
   "mimetype": "text/x-python",
   "name": "python",
   "nbconvert_exporter": "python",
   "pygments_lexer": "ipython3",
   "version": "3.12.0"
  }
 },
 "nbformat": 4,
 "nbformat_minor": 2
}
